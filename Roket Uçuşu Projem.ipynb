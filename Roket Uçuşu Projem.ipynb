{
 "cells": [
  {
   "cell_type": "code",
   "execution_count": null,
   "metadata": {
    "id": "pOY3uINJEc2S"
   },
   "outputs": [],
   "source": [
    "import numpy as np\n",
    "import matplotlib.pyplot as plt\n",
    "\n",
    "g = 9.81\n",
    "mass_initial = 50\n",
    "fuel_mass = 20\n",
    "burn_rate = 2\n",
    "\n",
    "thrust = 2000\n",
    "drag_coeff = 0.5\n",
    "air_density = 1.225\n",
    "\n",
    "cross_sectional_area = 0.1\n",
    "time_step = 0.1\n",
    "\n",
    "velocity = 0\n",
    "height = 0\n",
    "time = 0\n",
    "mass = mass_initial\n",
    "\n",
    "time_list = []\n",
    "height_list = []\n",
    "velocity_list = []\n",
    "fuel_maas_list = []\n",
    "\n",
    "while height >= 0:\n",
    "\n",
    "drag = 0.5 * drag_coeff * air_density * cross_sectional_area * velocity ** 2\n",
    "weight = mass * g\n",
    "if fuel_mass > 0:\n",
    "     net_force = thrust - drag - weight\n",
    "     fuel_mass -= burn_rate * time_step\n",
    "     mass -= burn_rate * time_step\n",
    "\n",
    " else:\n",
    "     net_force = -drag - weight\n",
    "\n",
    " acceleration = net_force / mass\n",
    "  velocity += acceleration * time_step\n",
    "  height += velocity * time_step\n",
    "  time += time_step\n",
    "\n",
    "  time_list.append(time)\n",
    "  height_list.append(height)\n",
    "  velocity_list.append(velocity)\n",
    "  fuel_mass_list.append(max(fuel_mass,0))\n",
    "\n",
    "  plt.figure(figsize=(12,8))\n",
    "\n",
    "  plt.subplot(3,1,1)\n",
    "  plt.plot(time_list, height_list,label=\"Yükseklik (m)\" , color=\"blue\")\n",
    "  plt.title(\"Roketin Uçuş Simülasyonu\")\n",
    "  plt.xlabel(\"Zaman (s)\")\n",
    "  plt.ylabel(\"Yükseklik (m)\")\n",
    "  plt.grid()\n",
    "  plt.legend()\n",
    "\n",
    "  plt.subplot(3,1,2)\n",
    "  plt.plot(time_list, velocity_list,label=\"Hız (m/s)\", color=\"green\")\n",
    "  plt.xlabel(\"Zaman (s)\")\n",
    "  plt.ylabel(\"Yakıt (kg)\")\n",
    "  plt.grid()\n",
    "  plt.legend()\n",
    "\n",
    "  plt.tight_layout()\n",
    "  plt.show()\n",
    "\n",
    "\n"
   ]
  },
  {
   "cell_type": "code",
   "execution_count": null,
   "metadata": {
    "id": "-6KLEUnBOFNt"
   },
   "outputs": [],
   "source": [
    "\n",
    "\n",
    "\n"
   ]
  }
 ],
 "metadata": {
  "colab": {
   "provenance": [],
   "toc_visible": true
  },
  "kernelspec": {
   "display_name": "Python 3",
   "name": "python3"
  },
  "language_info": {
   "name": "python"
  }
 },
 "nbformat": 4,
 "nbformat_minor": 0
}
